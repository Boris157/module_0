{
 "cells": [
  {
   "cell_type": "code",
   "execution_count": 34,
   "metadata": {},
   "outputs": [],
   "source": [
    "import random \n",
    "\n",
    "def igra_v_100 (number):\n",
    "   \n",
    "    Chislo_kotoroe_nuzhno_ugadat=random.randint(1,100)   \n",
    "    x = 1\n",
    "    y = 100\n",
    "    Try = 49\n",
    "    Tries_count = 1                                      \n",
    "    \n",
    "    while Try!=Chislo_kotoroe_nuzhno_ugadat:             # устанавливаем условие которое нужно выполнить. Т.е. нужно переменной Try попасть в нужное число     \n",
    "            \n",
    "        if Try > Chislo_kotoroe_nuzhno_ugadat:           # устанавливаем дополнительное условие. Т.е. если Try > нужного числа \n",
    "            Tries_count += 1\n",
    "            y = Try-1                               # мы считаем +1 попытку \n",
    "            Try=random.randint(x,y)                    # и следующая попытка должна укладываться в промежуток от 1 до предыдущего значения Try\n",
    "                \n",
    "                \n",
    "        elif Try < Chislo_kotoroe_nuzhno_ugadat:         # устанавливаем дополнительное условие. Т.е. если Try < нужного числа \n",
    "            Tries_count +=1\n",
    "            x = Try + 1                           # мы считаем +1 попытку\n",
    "            Try=random.randint(x,y)                  # и следующая попытка должна укладываться в промежуток от предыдущего значения Try до 100\n",
    " \n",
    "    return (Tries_count)\n",
    "\n",
    "\n",
    "\n"
   ]
  },
  {
   "cell_type": "code",
   "execution_count": 37,
   "metadata": {},
   "outputs": [],
   "source": [
    "import numpy as np\n",
    "def igra_v_100_1000_times (igra_v_100):\n",
    "    '''Запускаем игру 1000 раз, чтоб узнать как быстро игра угадывает число'''\n",
    "    count_ls = []\n",
    "    np.random.seed(1)  # фиксируем RANDOM SEED, чтобы ваш эксперимент был воспроизводим!\n",
    "    random_array = np.random.randint(100, size=(1000))\n",
    "    for number in random_array:\n",
    "        count_ls.append(igra_v_100 (number))\n",
    "    score = int(np.mean(count_ls))\n",
    "    print(f\"Ваш алгоритм угадывает число в среднем за {score} попыток\")\n",
    "    return(score) "
   ]
  },
  {
   "cell_type": "code",
   "execution_count": 38,
   "metadata": {},
   "outputs": [
    {
     "name": "stdout",
     "output_type": "stream",
     "text": [
      "Ваш алгоритм угадывает число в среднем за 7 попыток\n"
     ]
    },
    {
     "data": {
      "text/plain": [
       "7"
      ]
     },
     "execution_count": 38,
     "metadata": {},
     "output_type": "execute_result"
    }
   ],
   "source": [
    "igra_v_100_1000_times (igra_v_100)"
   ]
  },
  {
   "cell_type": "code",
   "execution_count": null,
   "metadata": {},
   "outputs": [],
   "source": []
  }
 ],
 "metadata": {
  "kernelspec": {
   "display_name": "Python 3",
   "language": "python",
   "name": "python3"
  },
  "language_info": {
   "codemirror_mode": {
    "name": "ipython",
    "version": 3
   },
   "file_extension": ".py",
   "mimetype": "text/x-python",
   "name": "python",
   "nbconvert_exporter": "python",
   "pygments_lexer": "ipython3",
   "version": "3.7.6"
  }
 },
 "nbformat": 4,
 "nbformat_minor": 4
}
